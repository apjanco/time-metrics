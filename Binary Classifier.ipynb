{
 "cells": [
  {
   "cell_type": "code",
   "execution_count": 1,
   "id": "55cc087f",
   "metadata": {},
   "outputs": [],
   "source": [
    "import srsly\n",
    "data = srsly.read_jsonl('ru_time_metrics_model/corpus/train.jsonl')"
   ]
  },
  {
   "cell_type": "code",
   "execution_count": 3,
   "id": "cdc77b7f",
   "metadata": {},
   "outputs": [
    {
     "data": {
      "application/vnd.jupyter.widget-view+json": {
       "model_id": "67abef88d3ec4fb0afaecefe4e23d7d4",
       "version_major": 2,
       "version_minor": 0
      },
      "text/plain": [
       "  0%|          | 0/59712 [00:00<?, ?it/s]"
      ]
     },
     "metadata": {},
     "output_type": "display_data"
    }
   ],
   "source": [
    "from tqdm.autonotebook import tqdm \n",
    "train_data = []\n",
    "for row in tqdm(data, total=59712):\n",
    "    if row['cats']['EMPIRE'] == 1.0:\n",
    "        train_data.append((row['text'],{'cats': {'EMPIRE': 1, 'NOT_EMPIRE': 0}}))\n",
    "    else:\n",
    "        train_data.append((row['text'],{'cats': {'EMPIRE': 0, 'NOT_EMPIRE': 1}}))"
   ]
  },
  {
   "cell_type": "code",
   "execution_count": null,
   "id": "4d0a9f65",
   "metadata": {},
   "outputs": [],
   "source": [
    "!python -m spacy download ru_core_news_sm"
   ]
  },
  {
   "cell_type": "code",
   "execution_count": 4,
   "id": "c1f40658",
   "metadata": {},
   "outputs": [
    {
     "data": {
      "text/plain": [
       "1"
      ]
     },
     "execution_count": 4,
     "metadata": {},
     "output_type": "execute_result"
    }
   ],
   "source": [
    "import spacy \n",
    "nlp = spacy.load(\"ru_core_news_sm\")\n",
    "textcat = nlp.add_pipe(\"textcat\")\n",
    "textcat.add_label('EMPIRE')\n",
    "textcat.add_label('NOT_EMPIRE')\n",
    "#textcat.add_label('POST')"
   ]
  },
  {
   "cell_type": "code",
   "execution_count": null,
   "id": "d74fe6dc",
   "metadata": {},
   "outputs": [
    {
     "data": {
      "application/vnd.jupyter.widget-view+json": {
       "model_id": "4d867f49aa6c494ab38ac14415a9465d",
       "version_major": 2,
       "version_minor": 0
      },
      "text/plain": [
       "  0%|          | 0/5 [00:00<?, ?it/s]"
      ]
     },
     "metadata": {},
     "output_type": "display_data"
    }
   ],
   "source": [
    "import random\n",
    "from spacy.util import minibatch, compounding\n",
    "from spacy.training import Example\n",
    "\n",
    "other_pipes = [pipe for pipe in nlp.pipe_names if pipe != 'textcat']\n",
    "\n",
    "n_iter = 5\n",
    "\n",
    "# Only train the textcat pipe\n",
    "with nlp.disable_pipes(*other_pipes):\n",
    "    optimizer = nlp.initialize()\n",
    "    for i in tqdm(range(n_iter)):\n",
    "        random.shuffle(train_data)\n",
    "        for raw_text, cats in train_data:\n",
    "            doc = nlp.make_doc(raw_text)\n",
    "            example = Example.from_dict(doc, cats)\n",
    "            nlp.update([example],sgd=optimizer)\n",
    "            \n",
    "nlp.to_disk(\"./empire_not_empire\")  "
   ]
  },
  {
   "cell_type": "code",
   "execution_count": null,
   "id": "bc40d9ab",
   "metadata": {},
   "outputs": [],
   "source": [
    "!ls ./empire_not_empire"
   ]
  },
  {
   "cell_type": "code",
   "execution_count": null,
   "id": "0988bb8e",
   "metadata": {},
   "outputs": [],
   "source": [
    "nlp = spacy.load('./empire_not_empire')"
   ]
  },
  {
   "cell_type": "code",
   "execution_count": null,
   "id": "dce4eefa",
   "metadata": {},
   "outputs": [],
   "source": [
    "doc = nlp('В половине двенадцатого прибывает мой дорогой Оболенский; когда я спускаюсь к нему, он умывается. Будучи очень доволен проделанным путешествием, он вместе с тем несколько утомлен и страдает от сильного насморка. Завтракаем вместе с ним у меня на квартире; весь день рассказываем друг другу тысячи всяческих вещей. При свидании с Лобановым Оболенский намеревается начать разговор с увеличения жалованья Азиатскому департаменту и просить того же для канцелярии. Уговариваю его сделать это только по зрелом размышлении, обсудив все детали данного вопроса с Никоновым. Сегодня у моей кухарки именины, предоставляю ей отгул.')"
   ]
  },
  {
   "cell_type": "code",
   "execution_count": null,
   "id": "d176031c",
   "metadata": {},
   "outputs": [],
   "source": [
    "doc.cats"
   ]
  },
  {
   "cell_type": "code",
   "execution_count": null,
   "id": "0b30f572",
   "metadata": {},
   "outputs": [],
   "source": []
  }
 ],
 "metadata": {
  "kernelspec": {
   "display_name": "Python 3 (ipykernel)",
   "language": "python",
   "name": "python3"
  },
  "language_info": {
   "codemirror_mode": {
    "name": "ipython",
    "version": 3
   },
   "file_extension": ".py",
   "mimetype": "text/x-python",
   "name": "python",
   "nbconvert_exporter": "python",
   "pygments_lexer": "ipython3",
   "version": "3.8.10"
  }
 },
 "nbformat": 4,
 "nbformat_minor": 5
}
